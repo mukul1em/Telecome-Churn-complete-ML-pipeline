{
 "cells": [
  {
   "cell_type": "code",
   "execution_count": 9,
   "source": [
    "import numpy as np\n",
    "import pandas as pd\n",
    "import matplotlib.pyplot as plt\n",
    "import seaborn as sns\n"
   ],
   "outputs": [],
   "metadata": {}
  },
  {
   "cell_type": "code",
   "execution_count": 10,
   "source": [
    "data = pd.read_csv('Data.csv')\n",
    "data.head()"
   ],
   "outputs": [
    {
     "output_type": "execute_result",
     "data": {
      "text/html": [
       "<div>\n",
       "<style scoped>\n",
       "    .dataframe tbody tr th:only-of-type {\n",
       "        vertical-align: middle;\n",
       "    }\n",
       "\n",
       "    .dataframe tbody tr th {\n",
       "        vertical-align: top;\n",
       "    }\n",
       "\n",
       "    .dataframe thead th {\n",
       "        text-align: right;\n",
       "    }\n",
       "</style>\n",
       "<table border=\"1\" class=\"dataframe\">\n",
       "  <thead>\n",
       "    <tr style=\"text-align: right;\">\n",
       "      <th></th>\n",
       "      <th>state</th>\n",
       "      <th>account length</th>\n",
       "      <th>area code</th>\n",
       "      <th>phone number</th>\n",
       "      <th>international plan</th>\n",
       "      <th>voice mail plan</th>\n",
       "      <th>number vmail messages</th>\n",
       "      <th>total day minutes</th>\n",
       "      <th>total day calls</th>\n",
       "      <th>total day charge</th>\n",
       "      <th>...</th>\n",
       "      <th>total eve calls</th>\n",
       "      <th>total eve charge</th>\n",
       "      <th>total night minutes</th>\n",
       "      <th>total night calls</th>\n",
       "      <th>total night charge</th>\n",
       "      <th>total intl minutes</th>\n",
       "      <th>total intl calls</th>\n",
       "      <th>total intl charge</th>\n",
       "      <th>customer service calls</th>\n",
       "      <th>churn</th>\n",
       "    </tr>\n",
       "  </thead>\n",
       "  <tbody>\n",
       "    <tr>\n",
       "      <th>0</th>\n",
       "      <td>KS</td>\n",
       "      <td>128</td>\n",
       "      <td>415</td>\n",
       "      <td>382-4657</td>\n",
       "      <td>no</td>\n",
       "      <td>yes</td>\n",
       "      <td>25</td>\n",
       "      <td>265.1</td>\n",
       "      <td>110</td>\n",
       "      <td>45.07</td>\n",
       "      <td>...</td>\n",
       "      <td>99</td>\n",
       "      <td>16.78</td>\n",
       "      <td>244.7</td>\n",
       "      <td>91</td>\n",
       "      <td>11.01</td>\n",
       "      <td>10.0</td>\n",
       "      <td>3</td>\n",
       "      <td>2.70</td>\n",
       "      <td>1</td>\n",
       "      <td>False</td>\n",
       "    </tr>\n",
       "    <tr>\n",
       "      <th>1</th>\n",
       "      <td>OH</td>\n",
       "      <td>107</td>\n",
       "      <td>415</td>\n",
       "      <td>371-7191</td>\n",
       "      <td>no</td>\n",
       "      <td>yes</td>\n",
       "      <td>26</td>\n",
       "      <td>161.6</td>\n",
       "      <td>123</td>\n",
       "      <td>27.47</td>\n",
       "      <td>...</td>\n",
       "      <td>103</td>\n",
       "      <td>16.62</td>\n",
       "      <td>254.4</td>\n",
       "      <td>103</td>\n",
       "      <td>11.45</td>\n",
       "      <td>13.7</td>\n",
       "      <td>3</td>\n",
       "      <td>3.70</td>\n",
       "      <td>1</td>\n",
       "      <td>False</td>\n",
       "    </tr>\n",
       "    <tr>\n",
       "      <th>2</th>\n",
       "      <td>NJ</td>\n",
       "      <td>137</td>\n",
       "      <td>415</td>\n",
       "      <td>358-1921</td>\n",
       "      <td>no</td>\n",
       "      <td>no</td>\n",
       "      <td>0</td>\n",
       "      <td>243.4</td>\n",
       "      <td>114</td>\n",
       "      <td>41.38</td>\n",
       "      <td>...</td>\n",
       "      <td>110</td>\n",
       "      <td>10.30</td>\n",
       "      <td>162.6</td>\n",
       "      <td>104</td>\n",
       "      <td>7.32</td>\n",
       "      <td>12.2</td>\n",
       "      <td>5</td>\n",
       "      <td>3.29</td>\n",
       "      <td>0</td>\n",
       "      <td>False</td>\n",
       "    </tr>\n",
       "    <tr>\n",
       "      <th>3</th>\n",
       "      <td>OH</td>\n",
       "      <td>84</td>\n",
       "      <td>408</td>\n",
       "      <td>375-9999</td>\n",
       "      <td>yes</td>\n",
       "      <td>no</td>\n",
       "      <td>0</td>\n",
       "      <td>299.4</td>\n",
       "      <td>71</td>\n",
       "      <td>50.90</td>\n",
       "      <td>...</td>\n",
       "      <td>88</td>\n",
       "      <td>5.26</td>\n",
       "      <td>196.9</td>\n",
       "      <td>89</td>\n",
       "      <td>8.86</td>\n",
       "      <td>6.6</td>\n",
       "      <td>7</td>\n",
       "      <td>1.78</td>\n",
       "      <td>2</td>\n",
       "      <td>False</td>\n",
       "    </tr>\n",
       "    <tr>\n",
       "      <th>4</th>\n",
       "      <td>OK</td>\n",
       "      <td>75</td>\n",
       "      <td>415</td>\n",
       "      <td>330-6626</td>\n",
       "      <td>yes</td>\n",
       "      <td>no</td>\n",
       "      <td>0</td>\n",
       "      <td>166.7</td>\n",
       "      <td>113</td>\n",
       "      <td>28.34</td>\n",
       "      <td>...</td>\n",
       "      <td>122</td>\n",
       "      <td>12.61</td>\n",
       "      <td>186.9</td>\n",
       "      <td>121</td>\n",
       "      <td>8.41</td>\n",
       "      <td>10.1</td>\n",
       "      <td>3</td>\n",
       "      <td>2.73</td>\n",
       "      <td>3</td>\n",
       "      <td>False</td>\n",
       "    </tr>\n",
       "  </tbody>\n",
       "</table>\n",
       "<p>5 rows × 21 columns</p>\n",
       "</div>"
      ],
      "text/plain": [
       "  state  account length  area code phone number international plan  \\\n",
       "0    KS             128        415     382-4657                 no   \n",
       "1    OH             107        415     371-7191                 no   \n",
       "2    NJ             137        415     358-1921                 no   \n",
       "3    OH              84        408     375-9999                yes   \n",
       "4    OK              75        415     330-6626                yes   \n",
       "\n",
       "  voice mail plan  number vmail messages  total day minutes  total day calls  \\\n",
       "0             yes                     25              265.1              110   \n",
       "1             yes                     26              161.6              123   \n",
       "2              no                      0              243.4              114   \n",
       "3              no                      0              299.4               71   \n",
       "4              no                      0              166.7              113   \n",
       "\n",
       "   total day charge  ...  total eve calls  total eve charge  \\\n",
       "0             45.07  ...               99             16.78   \n",
       "1             27.47  ...              103             16.62   \n",
       "2             41.38  ...              110             10.30   \n",
       "3             50.90  ...               88              5.26   \n",
       "4             28.34  ...              122             12.61   \n",
       "\n",
       "   total night minutes  total night calls  total night charge  \\\n",
       "0                244.7                 91               11.01   \n",
       "1                254.4                103               11.45   \n",
       "2                162.6                104                7.32   \n",
       "3                196.9                 89                8.86   \n",
       "4                186.9                121                8.41   \n",
       "\n",
       "   total intl minutes  total intl calls  total intl charge  \\\n",
       "0                10.0                 3               2.70   \n",
       "1                13.7                 3               3.70   \n",
       "2                12.2                 5               3.29   \n",
       "3                 6.6                 7               1.78   \n",
       "4                10.1                 3               2.73   \n",
       "\n",
       "   customer service calls  churn  \n",
       "0                       1  False  \n",
       "1                       1  False  \n",
       "2                       0  False  \n",
       "3                       2  False  \n",
       "4                       3  False  \n",
       "\n",
       "[5 rows x 21 columns]"
      ]
     },
     "metadata": {},
     "execution_count": 10
    }
   ],
   "metadata": {}
  },
  {
   "cell_type": "code",
   "execution_count": 11,
   "source": [
    "data.info()"
   ],
   "outputs": [
    {
     "output_type": "stream",
     "name": "stdout",
     "text": [
      "<class 'pandas.core.frame.DataFrame'>\n",
      "RangeIndex: 3333 entries, 0 to 3332\n",
      "Data columns (total 21 columns):\n",
      " #   Column                  Non-Null Count  Dtype  \n",
      "---  ------                  --------------  -----  \n",
      " 0   state                   3333 non-null   object \n",
      " 1   account length          3333 non-null   int64  \n",
      " 2   area code               3333 non-null   int64  \n",
      " 3   phone number            3333 non-null   object \n",
      " 4   international plan      3333 non-null   object \n",
      " 5   voice mail plan         3333 non-null   object \n",
      " 6   number vmail messages   3333 non-null   int64  \n",
      " 7   total day minutes       3333 non-null   float64\n",
      " 8   total day calls         3333 non-null   int64  \n",
      " 9   total day charge        3333 non-null   float64\n",
      " 10  total eve minutes       3333 non-null   float64\n",
      " 11  total eve calls         3333 non-null   int64  \n",
      " 12  total eve charge        3333 non-null   float64\n",
      " 13  total night minutes     3333 non-null   float64\n",
      " 14  total night calls       3333 non-null   int64  \n",
      " 15  total night charge      3333 non-null   float64\n",
      " 16  total intl minutes      3333 non-null   float64\n",
      " 17  total intl calls        3333 non-null   int64  \n",
      " 18  total intl charge       3333 non-null   float64\n",
      " 19  customer service calls  3333 non-null   int64  \n",
      " 20  churn                   3333 non-null   bool   \n",
      "dtypes: bool(1), float64(8), int64(8), object(4)\n",
      "memory usage: 524.2+ KB\n"
     ]
    }
   ],
   "metadata": {}
  },
  {
   "cell_type": "code",
   "execution_count": 12,
   "source": [
    "data['area code'] =  data['area code'].astype(str)"
   ],
   "outputs": [],
   "metadata": {}
  },
  {
   "cell_type": "code",
   "execution_count": 13,
   "source": [
    "names = {True:'disloyal', False:'loyal'}\n",
    "data['churn_name'] = data['churn'].map(names)"
   ],
   "outputs": [],
   "metadata": {}
  },
  {
   "cell_type": "code",
   "execution_count": 16,
   "source": [
    "data['churn_name'].value_counts().plot(kind='bar')"
   ],
   "outputs": [
    {
     "output_type": "execute_result",
     "data": {
      "text/plain": [
       "<AxesSubplot:>"
      ]
     },
     "metadata": {},
     "execution_count": 16
    },
    {
     "output_type": "display_data",
     "data": {
      "image/png": "[encoded data removed]",
      "text/plain": [
       "<Figure size 432x288 with 1 Axes>"
      ]
     },
     "metadata": {
      "needs_background": "light"
     }
    }
   ],
   "metadata": {}
  },
  {
   "cell_type": "code",
   "execution_count": 17,
   "source": [
    "data.columns"
   ],
   "outputs": [
    {
     "output_type": "execute_result",
     "data": {
      "text/plain": [
       "Index(['state', 'account length', 'area code', 'phone number',\n",
       "       'international plan', 'voice mail plan', 'number vmail messages',\n",
       "       'total day minutes', 'total day calls', 'total day charge',\n",
       "       'total eve minutes', 'total eve calls', 'total eve charge',\n",
       "       'total night minutes', 'total night calls', 'total night charge',\n",
       "       'total intl minutes', 'total intl calls', 'total intl charge',\n",
       "       'customer service calls', 'churn', 'churn_name'],\n",
       "      dtype='object')"
      ]
     },
     "metadata": {},
     "execution_count": 17
    }
   ],
   "metadata": {}
  },
  {
   "cell_type": "code",
   "execution_count": 18,
   "source": [
    "#total calls and which state has highest\n",
    "data['all calls'] = data['total eve calls'] + data['total day calls'] + data['total night calls']\n",
    "data.head()"
   ],
   "outputs": [
    {
     "output_type": "execute_result",
     "data": {
      "text/html": [
       "<div>\n",
       "<style scoped>\n",
       "    .dataframe tbody tr th:only-of-type {\n",
       "        vertical-align: middle;\n",
       "    }\n",
       "\n",
       "    .dataframe tbody tr th {\n",
       "        vertical-align: top;\n",
       "    }\n",
       "\n",
       "    .dataframe thead th {\n",
       "        text-align: right;\n",
       "    }\n",
       "</style>\n",
       "<table border=\"1\" class=\"dataframe\">\n",
       "  <thead>\n",
       "    <tr style=\"text-align: right;\">\n",
       "      <th></th>\n",
       "      <th>state</th>\n",
       "      <th>account length</th>\n",
       "      <th>area code</th>\n",
       "      <th>phone number</th>\n",
       "      <th>international plan</th>\n",
       "      <th>voice mail plan</th>\n",
       "      <th>number vmail messages</th>\n",
       "      <th>total day minutes</th>\n",
       "      <th>total day calls</th>\n",
       "      <th>total day charge</th>\n",
       "      <th>...</th>\n",
       "      <th>total night minutes</th>\n",
       "      <th>total night calls</th>\n",
       "      <th>total night charge</th>\n",
       "      <th>total intl minutes</th>\n",
       "      <th>total intl calls</th>\n",
       "      <th>total intl charge</th>\n",
       "      <th>customer service calls</th>\n",
       "      <th>churn</th>\n",
       "      <th>churn_name</th>\n",
       "      <th>all calls</th>\n",
       "    </tr>\n",
       "  </thead>\n",
       "  <tbody>\n",
       "    <tr>\n",
       "      <th>0</th>\n",
       "      <td>KS</td>\n",
       "      <td>128</td>\n",
       "      <td>415</td>\n",
       "      <td>382-4657</td>\n",
       "      <td>no</td>\n",
       "      <td>yes</td>\n",
       "      <td>25</td>\n",
       "      <td>265.1</td>\n",
       "      <td>110</td>\n",
       "      <td>45.07</td>\n",
       "      <td>...</td>\n",
       "      <td>244.7</td>\n",
       "      <td>91</td>\n",
       "      <td>11.01</td>\n",
       "      <td>10.0</td>\n",
       "      <td>3</td>\n",
       "      <td>2.70</td>\n",
       "      <td>1</td>\n",
       "      <td>False</td>\n",
       "      <td>loyal</td>\n",
       "      <td>300</td>\n",
       "    </tr>\n",
       "    <tr>\n",
       "      <th>1</th>\n",
       "      <td>OH</td>\n",
       "      <td>107</td>\n",
       "      <td>415</td>\n",
       "      <td>371-7191</td>\n",
       "      <td>no</td>\n",
       "      <td>yes</td>\n",
       "      <td>26</td>\n",
       "      <td>161.6</td>\n",
       "      <td>123</td>\n",
       "      <td>27.47</td>\n",
       "      <td>...</td>\n",
       "      <td>254.4</td>\n",
       "      <td>103</td>\n",
       "      <td>11.45</td>\n",
       "      <td>13.7</td>\n",
       "      <td>3</td>\n",
       "      <td>3.70</td>\n",
       "      <td>1</td>\n",
       "      <td>False</td>\n",
       "      <td>loyal</td>\n",
       "      <td>329</td>\n",
       "    </tr>\n",
       "    <tr>\n",
       "      <th>2</th>\n",
       "      <td>NJ</td>\n",
       "      <td>137</td>\n",
       "      <td>415</td>\n",
       "      <td>358-1921</td>\n",
       "      <td>no</td>\n",
       "      <td>no</td>\n",
       "      <td>0</td>\n",
       "      <td>243.4</td>\n",
       "      <td>114</td>\n",
       "      <td>41.38</td>\n",
       "      <td>...</td>\n",
       "      <td>162.6</td>\n",
       "      <td>104</td>\n",
       "      <td>7.32</td>\n",
       "      <td>12.2</td>\n",
       "      <td>5</td>\n",
       "      <td>3.29</td>\n",
       "      <td>0</td>\n",
       "      <td>False</td>\n",
       "      <td>loyal</td>\n",
       "      <td>328</td>\n",
       "    </tr>\n",
       "    <tr>\n",
       "      <th>3</th>\n",
       "      <td>OH</td>\n",
       "      <td>84</td>\n",
       "      <td>408</td>\n",
       "      <td>375-9999</td>\n",
       "      <td>yes</td>\n",
       "      <td>no</td>\n",
       "      <td>0</td>\n",
       "      <td>299.4</td>\n",
       "      <td>71</td>\n",
       "      <td>50.90</td>\n",
       "      <td>...</td>\n",
       "      <td>196.9</td>\n",
       "      <td>89</td>\n",
       "      <td>8.86</td>\n",
       "      <td>6.6</td>\n",
       "      <td>7</td>\n",
       "      <td>1.78</td>\n",
       "      <td>2</td>\n",
       "      <td>False</td>\n",
       "      <td>loyal</td>\n",
       "      <td>248</td>\n",
       "    </tr>\n",
       "    <tr>\n",
       "      <th>4</th>\n",
       "      <td>OK</td>\n",
       "      <td>75</td>\n",
       "      <td>415</td>\n",
       "      <td>330-6626</td>\n",
       "      <td>yes</td>\n",
       "      <td>no</td>\n",
       "      <td>0</td>\n",
       "      <td>166.7</td>\n",
       "      <td>113</td>\n",
       "      <td>28.34</td>\n",
       "      <td>...</td>\n",
       "      <td>186.9</td>\n",
       "      <td>121</td>\n",
       "      <td>8.41</td>\n",
       "      <td>10.1</td>\n",
       "      <td>3</td>\n",
       "      <td>2.73</td>\n",
       "      <td>3</td>\n",
       "      <td>False</td>\n",
       "      <td>loyal</td>\n",
       "      <td>356</td>\n",
       "    </tr>\n",
       "  </tbody>\n",
       "</table>\n",
       "<p>5 rows × 23 columns</p>\n",
       "</div>"
      ],
      "text/plain": [
       "  state  account length area code phone number international plan  \\\n",
       "0    KS             128       415     382-4657                 no   \n",
       "1    OH             107       415     371-7191                 no   \n",
       "2    NJ             137       415     358-1921                 no   \n",
       "3    OH              84       408     375-9999                yes   \n",
       "4    OK              75       415     330-6626                yes   \n",
       "\n",
       "  voice mail plan  number vmail messages  total day minutes  total day calls  \\\n",
       "0             yes                     25              265.1              110   \n",
       "1             yes                     26              161.6              123   \n",
       "2              no                      0              243.4              114   \n",
       "3              no                      0              299.4               71   \n",
       "4              no                      0              166.7              113   \n",
       "\n",
       "   total day charge  ...  total night minutes  total night calls  \\\n",
       "0             45.07  ...                244.7                 91   \n",
       "1             27.47  ...                254.4                103   \n",
       "2             41.38  ...                162.6                104   \n",
       "3             50.90  ...                196.9                 89   \n",
       "4             28.34  ...                186.9                121   \n",
       "\n",
       "   total night charge  total intl minutes  total intl calls  \\\n",
       "0               11.01                10.0                 3   \n",
       "1               11.45                13.7                 3   \n",
       "2                7.32                12.2                 5   \n",
       "3                8.86                 6.6                 7   \n",
       "4                8.41                10.1                 3   \n",
       "\n",
       "   total intl charge  customer service calls  churn  churn_name  all calls  \n",
       "0               2.70                       1  False       loyal        300  \n",
       "1               3.70                       1  False       loyal        329  \n",
       "2               3.29                       0  False       loyal        328  \n",
       "3               1.78                       2  False       loyal        248  \n",
       "4               2.73                       3  False       loyal        356  \n",
       "\n",
       "[5 rows x 23 columns]"
      ]
     },
     "metadata": {},
     "execution_count": 18
    }
   ],
   "metadata": {}
  },
  {
   "cell_type": "code",
   "execution_count": 20,
   "source": [
    "state_calls = data.groupby('state')['all calls'].sum().sort_values()\n",
    "state_calls.head()"
   ],
   "outputs": [
    {
     "output_type": "execute_result",
     "data": {
      "text/plain": [
       "state\n",
       "CA    10431\n",
       "IA    13320\n",
       "PA    13463\n",
       "AK    15038\n",
       "LA    15286\n",
       "Name: all calls, dtype: int64"
      ]
     },
     "metadata": {},
     "execution_count": 20
    }
   ],
   "metadata": {}
  },
  {
   "cell_type": "code",
   "execution_count": 23,
   "source": [
    "plt.figure(figsize=(10,10))\n",
    "state_calls.plot(kind='barh')"
   ],
   "outputs": [
    {
     "output_type": "execute_result",
     "data": {
      "text/plain": [
       "<AxesSubplot:ylabel='state'>"
      ]
     },
     "metadata": {},
     "execution_count": 23
    },
    {
     "output_type": "display_data",
     "data": {
      "image/png": "[encoded data removed]",
      "text/plain": [
       "<Figure size 720x720 with 1 Axes>"
      ]
     },
     "metadata": {
      "needs_background": "light"
     }
    }
   ],
   "metadata": {}
  },
  {
   "cell_type": "code",
   "execution_count": 25,
   "source": [
    "#people who makes more international calls get a lot of international plan\n",
    "\n",
    "plt.figure(figsize=(10,10))\n",
    "sns.countplot(y='total intl calls', hue='international plan', data=data)\n",
    "\n",
    "#seems incorrect"
   ],
   "outputs": [
    {
     "output_type": "execute_result",
     "data": {
      "text/plain": [
       "<AxesSubplot:xlabel='count', ylabel='total intl calls'>"
      ]
     },
     "metadata": {},
     "execution_count": 25
    },
    {
     "output_type": "display_data",
     "data": {
      "image/png": "[encoded data removed]",
      "text/plain": [
       "<Figure size 720x720 with 1 Axes>"
      ]
     },
     "metadata": {
      "needs_background": "light"
     }
    }
   ],
   "metadata": {}
  },
  {
   "cell_type": "code",
   "execution_count": 31,
   "source": [
    "#How do having voice mail and an international plan relate to subscriber loyalty? Check the statistical significance of these relationships.\n",
    "\n",
    "sns.heatmap(pd.crosstab(data['international plan'], data['churn']), annot=True)"
   ],
   "outputs": [
    {
     "output_type": "execute_result",
     "data": {
      "text/plain": [
       "<AxesSubplot:xlabel='churn', ylabel='international plan'>"
      ]
     },
     "metadata": {},
     "execution_count": 31
    },
    {
     "output_type": "display_data",
     "data": {
      "image/png": "[encoded data removed]",
      "text/plain": [
       "<Figure size 432x288 with 2 Axes>"
      ]
     },
     "metadata": {
      "needs_background": "light"
     }
    }
   ],
   "metadata": {}
  },
  {
   "cell_type": "code",
   "execution_count": 32,
   "source": [
    "sns.heatmap(pd.crosstab(data['voice mail plan'], data['churn']), annot=True)"
   ],
   "outputs": [
    {
     "output_type": "execute_result",
     "data": {
      "text/plain": [
       "<AxesSubplot:xlabel='churn', ylabel='voice mail plan'>"
      ]
     },
     "metadata": {},
     "execution_count": 32
    },
    {
     "output_type": "display_data",
     "data": {
      "image/png": "[encoded data removed]",
      "text/plain": [
       "<Figure size 432x288 with 2 Axes>"
      ]
     },
     "metadata": {
      "needs_background": "light"
     }
    }
   ],
   "metadata": {}
  },
  {
   "cell_type": "code",
   "execution_count": 38,
   "source": [
    "from scipy.stats import chi2_contingency\n",
    "print('International plan vs Churn:')\n",
    "chi2, p, dof, ex = chi2_contingency(pd.crosstab(data['international plan'], data['churn']))\n",
    "p < 0.05"
   ],
   "outputs": [
    {
     "output_type": "stream",
     "name": "stdout",
     "text": [
      "International plan vs Churn:\n"
     ]
    },
    {
     "output_type": "execute_result",
     "data": {
      "text/plain": [
       "True"
      ]
     },
     "metadata": {},
     "execution_count": 38
    }
   ],
   "metadata": {}
  },
  {
   "cell_type": "markdown",
   "source": [
    "#### p-value in both cases is quite small (<0.05). This means that the relationship between the international plan and voice mail with subscriber loyalty is statistically significant.\n"
   ],
   "metadata": {}
  },
  {
   "cell_type": "code",
   "execution_count": 39,
   "source": [
    "chi2, p, dof, ex= chi2_contingency(pd.crosstab(data['voice mail plan'], data['churn']))\n",
    "p < 0.05"
   ],
   "outputs": [
    {
     "output_type": "execute_result",
     "data": {
      "text/plain": [
       "True"
      ]
     },
     "metadata": {},
     "execution_count": 39
    }
   ],
   "metadata": {}
  },
  {
   "cell_type": "code",
   "execution_count": 40,
   "source": [
    "# What can be said about the relationship between the number of calls to the call center and loyalty? Don't forget about information visualization.\n",
    "sns.countplot(y='customer service calls', hue='churn', data=data)\n",
    "\n",
    "# as the number of calls increases the probability of getting churn increases"
   ],
   "outputs": [
    {
     "output_type": "execute_result",
     "data": {
      "text/plain": [
       "<AxesSubplot:xlabel='count', ylabel='customer service calls'>"
      ]
     },
     "metadata": {},
     "execution_count": 40
    },
    {
     "output_type": "display_data",
     "data": {
      "image/png": "[encoded data removed]",
      "text/plain": [
       "<Figure size 432x288 with 1 Axes>"
      ]
     },
     "metadata": {
      "needs_background": "light"
     }
    }
   ],
   "metadata": {}
  },
  {
   "cell_type": "code",
   "execution_count": 43,
   "source": [
    "numeric = [col for col in data.columns if data.dtypes[col] == np.int64 or data.dtypes[col] == np.float64]\n",
    "data[numeric].corr(method='spearman')"
   ],
   "outputs": [
    {
     "output_type": "execute_result",
     "data": {
      "text/html": [
       "<div>\n",
       "<style scoped>\n",
       "    .dataframe tbody tr th:only-of-type {\n",
       "        vertical-align: middle;\n",
       "    }\n",
       "\n",
       "    .dataframe tbody tr th {\n",
       "        vertical-align: top;\n",
       "    }\n",
       "\n",
       "    .dataframe thead th {\n",
       "        text-align: right;\n",
       "    }\n",
       "</style>\n",
       "<table border=\"1\" class=\"dataframe\">\n",
       "  <thead>\n",
       "    <tr style=\"text-align: right;\">\n",
       "      <th></th>\n",
       "      <th>account length</th>\n",
       "      <th>number vmail messages</th>\n",
       "      <th>total day minutes</th>\n",
       "      <th>total day calls</th>\n",
       "      <th>total day charge</th>\n",
       "      <th>total eve minutes</th>\n",
       "      <th>total eve calls</th>\n",
       "      <th>total eve charge</th>\n",
       "      <th>total night minutes</th>\n",
       "      <th>total night calls</th>\n",
       "      <th>total night charge</th>\n",
       "      <th>total intl minutes</th>\n",
       "      <th>total intl calls</th>\n",
       "      <th>total intl charge</th>\n",
       "      <th>customer service calls</th>\n",
       "      <th>all calls</th>\n",
       "    </tr>\n",
       "  </thead>\n",
       "  <tbody>\n",
       "    <tr>\n",
       "      <th>account length</th>\n",
       "      <td>1.000000</td>\n",
       "      <td>0.003077</td>\n",
       "      <td>0.017884</td>\n",
       "      <td>0.032690</td>\n",
       "      <td>0.017884</td>\n",
       "      <td>-0.007954</td>\n",
       "      <td>0.018378</td>\n",
       "      <td>-0.007950</td>\n",
       "      <td>-0.013643</td>\n",
       "      <td>-0.007669</td>\n",
       "      <td>-0.013654</td>\n",
       "      <td>0.014761</td>\n",
       "      <td>0.027453</td>\n",
       "      <td>0.014761</td>\n",
       "      <td>-0.005942</td>\n",
       "      <td>0.023756</td>\n",
       "    </tr>\n",
       "    <tr>\n",
       "      <th>number vmail messages</th>\n",
       "      <td>0.003077</td>\n",
       "      <td>1.000000</td>\n",
       "      <td>0.004006</td>\n",
       "      <td>-0.012396</td>\n",
       "      <td>0.004006</td>\n",
       "      <td>0.021162</td>\n",
       "      <td>-0.007148</td>\n",
       "      <td>0.021177</td>\n",
       "      <td>0.005053</td>\n",
       "      <td>0.010975</td>\n",
       "      <td>0.005036</td>\n",
       "      <td>-0.001565</td>\n",
       "      <td>0.006248</td>\n",
       "      <td>-0.001565</td>\n",
       "      <td>-0.019639</td>\n",
       "      <td>-0.003107</td>\n",
       "    </tr>\n",
       "    <tr>\n",
       "      <th>total day minutes</th>\n",
       "      <td>0.017884</td>\n",
       "      <td>0.004006</td>\n",
       "      <td>1.000000</td>\n",
       "      <td>0.009391</td>\n",
       "      <td>1.000000</td>\n",
       "      <td>0.006405</td>\n",
       "      <td>0.017867</td>\n",
       "      <td>0.006391</td>\n",
       "      <td>-0.005699</td>\n",
       "      <td>0.023052</td>\n",
       "      <td>-0.005730</td>\n",
       "      <td>-0.016110</td>\n",
       "      <td>-0.000291</td>\n",
       "      <td>-0.016110</td>\n",
       "      <td>-0.015032</td>\n",
       "      <td>0.028232</td>\n",
       "    </tr>\n",
       "    <tr>\n",
       "      <th>total day calls</th>\n",
       "      <td>0.032690</td>\n",
       "      <td>-0.012396</td>\n",
       "      <td>0.009391</td>\n",
       "      <td>1.000000</td>\n",
       "      <td>0.009391</td>\n",
       "      <td>-0.014062</td>\n",
       "      <td>0.013807</td>\n",
       "      <td>-0.014063</td>\n",
       "      <td>0.018890</td>\n",
       "      <td>-0.017848</td>\n",
       "      <td>0.018857</td>\n",
       "      <td>0.015139</td>\n",
       "      <td>0.004148</td>\n",
       "      <td>0.015139</td>\n",
       "      <td>-0.020957</td>\n",
       "      <td>0.560454</td>\n",
       "    </tr>\n",
       "    <tr>\n",
       "      <th>total day charge</th>\n",
       "      <td>0.017884</td>\n",
       "      <td>0.004006</td>\n",
       "      <td>1.000000</td>\n",
       "      <td>0.009391</td>\n",
       "      <td>1.000000</td>\n",
       "      <td>0.006405</td>\n",
       "      <td>0.017867</td>\n",
       "      <td>0.006391</td>\n",
       "      <td>-0.005699</td>\n",
       "      <td>0.023052</td>\n",
       "      <td>-0.005730</td>\n",
       "      <td>-0.016110</td>\n",
       "      <td>-0.000291</td>\n",
       "      <td>-0.016110</td>\n",
       "      <td>-0.015032</td>\n",
       "      <td>0.028232</td>\n",
       "    </tr>\n",
       "    <tr>\n",
       "      <th>total eve minutes</th>\n",
       "      <td>-0.007954</td>\n",
       "      <td>0.021162</td>\n",
       "      <td>0.006405</td>\n",
       "      <td>-0.014062</td>\n",
       "      <td>0.006405</td>\n",
       "      <td>1.000000</td>\n",
       "      <td>-0.010455</td>\n",
       "      <td>1.000000</td>\n",
       "      <td>-0.013211</td>\n",
       "      <td>0.003399</td>\n",
       "      <td>-0.013220</td>\n",
       "      <td>-0.003225</td>\n",
       "      <td>0.014281</td>\n",
       "      <td>-0.003225</td>\n",
       "      <td>-0.017805</td>\n",
       "      <td>-0.015010</td>\n",
       "    </tr>\n",
       "    <tr>\n",
       "      <th>total eve calls</th>\n",
       "      <td>0.018378</td>\n",
       "      <td>-0.007148</td>\n",
       "      <td>0.017867</td>\n",
       "      <td>0.013807</td>\n",
       "      <td>0.017867</td>\n",
       "      <td>-0.010455</td>\n",
       "      <td>1.000000</td>\n",
       "      <td>-0.010446</td>\n",
       "      <td>0.004870</td>\n",
       "      <td>0.005639</td>\n",
       "      <td>0.004892</td>\n",
       "      <td>0.000213</td>\n",
       "      <td>0.014862</td>\n",
       "      <td>0.000213</td>\n",
       "      <td>0.002697</td>\n",
       "      <td>0.567591</td>\n",
       "    </tr>\n",
       "    <tr>\n",
       "      <th>total eve charge</th>\n",
       "      <td>-0.007950</td>\n",
       "      <td>0.021177</td>\n",
       "      <td>0.006391</td>\n",
       "      <td>-0.014063</td>\n",
       "      <td>0.006391</td>\n",
       "      <td>1.000000</td>\n",
       "      <td>-0.010446</td>\n",
       "      <td>1.000000</td>\n",
       "      <td>-0.013216</td>\n",
       "      <td>0.003388</td>\n",
       "      <td>-0.013225</td>\n",
       "      <td>-0.003231</td>\n",
       "      <td>0.014289</td>\n",
       "      <td>-0.003231</td>\n",
       "      <td>-0.017800</td>\n",
       "      <td>-0.015016</td>\n",
       "    </tr>\n",
       "    <tr>\n",
       "      <th>total night minutes</th>\n",
       "      <td>-0.013643</td>\n",
       "      <td>0.005053</td>\n",
       "      <td>-0.005699</td>\n",
       "      <td>0.018890</td>\n",
       "      <td>-0.005699</td>\n",
       "      <td>-0.013211</td>\n",
       "      <td>0.004870</td>\n",
       "      <td>-0.013216</td>\n",
       "      <td>1.000000</td>\n",
       "      <td>0.008580</td>\n",
       "      <td>0.999999</td>\n",
       "      <td>-0.010331</td>\n",
       "      <td>0.000485</td>\n",
       "      <td>-0.010331</td>\n",
       "      <td>-0.012713</td>\n",
       "      <td>0.018958</td>\n",
       "    </tr>\n",
       "    <tr>\n",
       "      <th>total night calls</th>\n",
       "      <td>-0.007669</td>\n",
       "      <td>0.010975</td>\n",
       "      <td>0.023052</td>\n",
       "      <td>-0.017848</td>\n",
       "      <td>0.023052</td>\n",
       "      <td>0.003399</td>\n",
       "      <td>0.005639</td>\n",
       "      <td>0.003388</td>\n",
       "      <td>0.008580</td>\n",
       "      <td>1.000000</td>\n",
       "      <td>0.008561</td>\n",
       "      <td>-0.006397</td>\n",
       "      <td>-0.003133</td>\n",
       "      <td>-0.006397</td>\n",
       "      <td>-0.008087</td>\n",
       "      <td>0.553289</td>\n",
       "    </tr>\n",
       "    <tr>\n",
       "      <th>total night charge</th>\n",
       "      <td>-0.013654</td>\n",
       "      <td>0.005036</td>\n",
       "      <td>-0.005730</td>\n",
       "      <td>0.018857</td>\n",
       "      <td>-0.005730</td>\n",
       "      <td>-0.013220</td>\n",
       "      <td>0.004892</td>\n",
       "      <td>-0.013225</td>\n",
       "      <td>0.999999</td>\n",
       "      <td>0.008561</td>\n",
       "      <td>1.000000</td>\n",
       "      <td>-0.010312</td>\n",
       "      <td>0.000480</td>\n",
       "      <td>-0.010312</td>\n",
       "      <td>-0.012709</td>\n",
       "      <td>0.018944</td>\n",
       "    </tr>\n",
       "    <tr>\n",
       "      <th>total intl minutes</th>\n",
       "      <td>0.014761</td>\n",
       "      <td>-0.001565</td>\n",
       "      <td>-0.016110</td>\n",
       "      <td>0.015139</td>\n",
       "      <td>-0.016110</td>\n",
       "      <td>-0.003225</td>\n",
       "      <td>0.000213</td>\n",
       "      <td>-0.003231</td>\n",
       "      <td>-0.010331</td>\n",
       "      <td>-0.006397</td>\n",
       "      <td>-0.010312</td>\n",
       "      <td>1.000000</td>\n",
       "      <td>0.017900</td>\n",
       "      <td>1.000000</td>\n",
       "      <td>-0.017374</td>\n",
       "      <td>0.008939</td>\n",
       "    </tr>\n",
       "    <tr>\n",
       "      <th>total intl calls</th>\n",
       "      <td>0.027453</td>\n",
       "      <td>0.006248</td>\n",
       "      <td>-0.000291</td>\n",
       "      <td>0.004148</td>\n",
       "      <td>-0.000291</td>\n",
       "      <td>0.014281</td>\n",
       "      <td>0.014862</td>\n",
       "      <td>0.014289</td>\n",
       "      <td>0.000485</td>\n",
       "      <td>-0.003133</td>\n",
       "      <td>0.000480</td>\n",
       "      <td>0.017900</td>\n",
       "      <td>1.000000</td>\n",
       "      <td>0.017900</td>\n",
       "      <td>-0.000598</td>\n",
       "      <td>0.007660</td>\n",
       "    </tr>\n",
       "    <tr>\n",
       "      <th>total intl charge</th>\n",
       "      <td>0.014761</td>\n",
       "      <td>-0.001565</td>\n",
       "      <td>-0.016110</td>\n",
       "      <td>0.015139</td>\n",
       "      <td>-0.016110</td>\n",
       "      <td>-0.003225</td>\n",
       "      <td>0.000213</td>\n",
       "      <td>-0.003231</td>\n",
       "      <td>-0.010331</td>\n",
       "      <td>-0.006397</td>\n",
       "      <td>-0.010312</td>\n",
       "      <td>1.000000</td>\n",
       "      <td>0.017900</td>\n",
       "      <td>1.000000</td>\n",
       "      <td>-0.017374</td>\n",
       "      <td>0.008939</td>\n",
       "    </tr>\n",
       "    <tr>\n",
       "      <th>customer service calls</th>\n",
       "      <td>-0.005942</td>\n",
       "      <td>-0.019639</td>\n",
       "      <td>-0.015032</td>\n",
       "      <td>-0.020957</td>\n",
       "      <td>-0.015032</td>\n",
       "      <td>-0.017805</td>\n",
       "      <td>0.002697</td>\n",
       "      <td>-0.017800</td>\n",
       "      <td>-0.012713</td>\n",
       "      <td>-0.008087</td>\n",
       "      <td>-0.012709</td>\n",
       "      <td>-0.017374</td>\n",
       "      <td>-0.000598</td>\n",
       "      <td>-0.017374</td>\n",
       "      <td>1.000000</td>\n",
       "      <td>-0.013554</td>\n",
       "    </tr>\n",
       "    <tr>\n",
       "      <th>all calls</th>\n",
       "      <td>0.023756</td>\n",
       "      <td>-0.003107</td>\n",
       "      <td>0.028232</td>\n",
       "      <td>0.560454</td>\n",
       "      <td>0.028232</td>\n",
       "      <td>-0.015010</td>\n",
       "      <td>0.567591</td>\n",
       "      <td>-0.015016</td>\n",
       "      <td>0.018958</td>\n",
       "      <td>0.553289</td>\n",
       "      <td>0.018944</td>\n",
       "      <td>0.008939</td>\n",
       "      <td>0.007660</td>\n",
       "      <td>0.008939</td>\n",
       "      <td>-0.013554</td>\n",
       "      <td>1.000000</td>\n",
       "    </tr>\n",
       "  </tbody>\n",
       "</table>\n",
       "</div>"
      ],
      "text/plain": [
       "                        account length  number vmail messages  \\\n",
       "account length                1.000000               0.003077   \n",
       "number vmail messages         0.003077               1.000000   \n",
       "total day minutes             0.017884               0.004006   \n",
       "total day calls               0.032690              -0.012396   \n",
       "total day charge              0.017884               0.004006   \n",
       "total eve minutes            -0.007954               0.021162   \n",
       "total eve calls               0.018378              -0.007148   \n",
       "total eve charge             -0.007950               0.021177   \n",
       "total night minutes          -0.013643               0.005053   \n",
       "total night calls            -0.007669               0.010975   \n",
       "total night charge           -0.013654               0.005036   \n",
       "total intl minutes            0.014761              -0.001565   \n",
       "total intl calls              0.027453               0.006248   \n",
       "total intl charge             0.014761              -0.001565   \n",
       "customer service calls       -0.005942              -0.019639   \n",
       "all calls                     0.023756              -0.003107   \n",
       "\n",
       "                        total day minutes  total day calls  total day charge  \\\n",
       "account length                   0.017884         0.032690          0.017884   \n",
       "number vmail messages            0.004006        -0.012396          0.004006   \n",
       "total day minutes                1.000000         0.009391          1.000000   \n",
       "total day calls                  0.009391         1.000000          0.009391   \n",
       "total day charge                 1.000000         0.009391          1.000000   \n",
       "total eve minutes                0.006405        -0.014062          0.006405   \n",
       "total eve calls                  0.017867         0.013807          0.017867   \n",
       "total eve charge                 0.006391        -0.014063          0.006391   \n",
       "total night minutes             -0.005699         0.018890         -0.005699   \n",
       "total night calls                0.023052        -0.017848          0.023052   \n",
       "total night charge              -0.005730         0.018857         -0.005730   \n",
       "total intl minutes              -0.016110         0.015139         -0.016110   \n",
       "total intl calls                -0.000291         0.004148         -0.000291   \n",
       "total intl charge               -0.016110         0.015139         -0.016110   \n",
       "customer service calls          -0.015032        -0.020957         -0.015032   \n",
       "all calls                        0.028232         0.560454          0.028232   \n",
       "\n",
       "                        total eve minutes  total eve calls  total eve charge  \\\n",
       "account length                  -0.007954         0.018378         -0.007950   \n",
       "number vmail messages            0.021162        -0.007148          0.021177   \n",
       "total day minutes                0.006405         0.017867          0.006391   \n",
       "total day calls                 -0.014062         0.013807         -0.014063   \n",
       "total day charge                 0.006405         0.017867          0.006391   \n",
       "total eve minutes                1.000000        -0.010455          1.000000   \n",
       "total eve calls                 -0.010455         1.000000         -0.010446   \n",
       "total eve charge                 1.000000        -0.010446          1.000000   \n",
       "total night minutes             -0.013211         0.004870         -0.013216   \n",
       "total night calls                0.003399         0.005639          0.003388   \n",
       "total night charge              -0.013220         0.004892         -0.013225   \n",
       "total intl minutes              -0.003225         0.000213         -0.003231   \n",
       "total intl calls                 0.014281         0.014862          0.014289   \n",
       "total intl charge               -0.003225         0.000213         -0.003231   \n",
       "customer service calls          -0.017805         0.002697         -0.017800   \n",
       "all calls                       -0.015010         0.567591         -0.015016   \n",
       "\n",
       "                        total night minutes  total night calls  \\\n",
       "account length                    -0.013643          -0.007669   \n",
       "number vmail messages              0.005053           0.010975   \n",
       "total day minutes                 -0.005699           0.023052   \n",
       "total day calls                    0.018890          -0.017848   \n",
       "total day charge                  -0.005699           0.023052   \n",
       "total eve minutes                 -0.013211           0.003399   \n",
       "total eve calls                    0.004870           0.005639   \n",
       "total eve charge                  -0.013216           0.003388   \n",
       "total night minutes                1.000000           0.008580   \n",
       "total night calls                  0.008580           1.000000   \n",
       "total night charge                 0.999999           0.008561   \n",
       "total intl minutes                -0.010331          -0.006397   \n",
       "total intl calls                   0.000485          -0.003133   \n",
       "total intl charge                 -0.010331          -0.006397   \n",
       "customer service calls            -0.012713          -0.008087   \n",
       "all calls                          0.018958           0.553289   \n",
       "\n",
       "                        total night charge  total intl minutes  \\\n",
       "account length                   -0.013654            0.014761   \n",
       "number vmail messages             0.005036           -0.001565   \n",
       "total day minutes                -0.005730           -0.016110   \n",
       "total day calls                   0.018857            0.015139   \n",
       "total day charge                 -0.005730           -0.016110   \n",
       "total eve minutes                -0.013220           -0.003225   \n",
       "total eve calls                   0.004892            0.000213   \n",
       "total eve charge                 -0.013225           -0.003231   \n",
       "total night minutes               0.999999           -0.010331   \n",
       "total night calls                 0.008561           -0.006397   \n",
       "total night charge                1.000000           -0.010312   \n",
       "total intl minutes               -0.010312            1.000000   \n",
       "total intl calls                  0.000480            0.017900   \n",
       "total intl charge                -0.010312            1.000000   \n",
       "customer service calls           -0.012709           -0.017374   \n",
       "all calls                         0.018944            0.008939   \n",
       "\n",
       "                        total intl calls  total intl charge  \\\n",
       "account length                  0.027453           0.014761   \n",
       "number vmail messages           0.006248          -0.001565   \n",
       "total day minutes              -0.000291          -0.016110   \n",
       "total day calls                 0.004148           0.015139   \n",
       "total day charge               -0.000291          -0.016110   \n",
       "total eve minutes               0.014281          -0.003225   \n",
       "total eve calls                 0.014862           0.000213   \n",
       "total eve charge                0.014289          -0.003231   \n",
       "total night minutes             0.000485          -0.010331   \n",
       "total night calls              -0.003133          -0.006397   \n",
       "total night charge              0.000480          -0.010312   \n",
       "total intl minutes              0.017900           1.000000   \n",
       "total intl calls                1.000000           0.017900   \n",
       "total intl charge               0.017900           1.000000   \n",
       "customer service calls         -0.000598          -0.017374   \n",
       "all calls                       0.007660           0.008939   \n",
       "\n",
       "                        customer service calls  all calls  \n",
       "account length                       -0.005942   0.023756  \n",
       "number vmail messages                -0.019639  -0.003107  \n",
       "total day minutes                    -0.015032   0.028232  \n",
       "total day calls                      -0.020957   0.560454  \n",
       "total day charge                     -0.015032   0.028232  \n",
       "total eve minutes                    -0.017805  -0.015010  \n",
       "total eve calls                       0.002697   0.567591  \n",
       "total eve charge                     -0.017800  -0.015016  \n",
       "total night minutes                  -0.012713   0.018958  \n",
       "total night calls                    -0.008087   0.553289  \n",
       "total night charge                   -0.012709   0.018944  \n",
       "total intl minutes                   -0.017374   0.008939  \n",
       "total intl calls                     -0.000598   0.007660  \n",
       "total intl charge                    -0.017374   0.008939  \n",
       "customer service calls                1.000000  -0.013554  \n",
       "all calls                            -0.013554   1.000000  "
      ]
     },
     "metadata": {},
     "execution_count": 43
    }
   ],
   "metadata": {}
  },
  {
   "cell_type": "code",
   "execution_count": 45,
   "source": [
    "sns.heatmap(data[numeric].corr(method='spearman'))\n",
    "#The highest correlation can be traced between the total number of minutes of calls and the total payment for services. Obviously, \n",
    "# with an increase in the number of speaking minutes, the payment also increases, because. it depends on the number of minutes."
   ],
   "outputs": [
    {
     "output_type": "display_data",
     "data": {
      "image/png": "[encoded data removed]",
      "text/plain": [
       "<Figure size 432x288 with 2 Axes>"
      ]
     },
     "metadata": {
      "needs_background": "light"
     }
    }
   ],
   "metadata": {}
  },
  {
   "cell_type": "code",
   "execution_count": 47,
   "source": [
    "data['account length']"
   ],
   "outputs": [
    {
     "output_type": "execute_result",
     "data": {
      "text/plain": [
       "0       128\n",
       "1       107\n",
       "2       137\n",
       "3        84\n",
       "4        75\n",
       "       ... \n",
       "3328    192\n",
       "3329     68\n",
       "3330     28\n",
       "3331    184\n",
       "3332     74\n",
       "Name: account length, Length: 3333, dtype: int64"
      ]
     },
     "metadata": {},
     "execution_count": 47
    }
   ],
   "metadata": {}
  },
  {
   "cell_type": "code",
   "execution_count": 48,
   "source": [
    "from scipy.stats import spearmanr, kendalltau\n",
    "df = data\n",
    "r = spearmanr(df['account length'], df['customer service calls'])\n",
    "t = kendalltau(df['account length'], df['customer service calls'])\n",
    "print('Spearman correlation between account length and customer service calls:', r[0], 'p-value:', r[1])\n",
    "print('Kendall correlation between account length and customer service calls:', t[0], 'p-value:', t[1])\n",
    "plt.xlabel('account length')\n",
    "plt.ylabel('customer service calls')\n",
    "plt.scatter(df['account length'], df['customer service calls'])\n",
    "\n",
    "#An inverse weak correlation is possible between the features, but the p-value is quite large, \n",
    "# therefore, there is a high probability of a statistical error."
   ],
   "outputs": [
    {
     "output_type": "stream",
     "name": "stdout",
     "text": [
      "Spearman correlation between account length and customer service calls: -0.005941876696982856 p-value: 0.7316649567390638\n",
      "Kendall correlation between account length and customer service calls: -0.00434113960581665 p-value: 0.7353733673801053\n"
     ]
    },
    {
     "output_type": "execute_result",
     "data": {
      "text/plain": [
       "<matplotlib.collections.PathCollection at 0x135db9fd0>"
      ]
     },
     "metadata": {},
     "execution_count": 48
    },
    {
     "output_type": "display_data",
     "data": {
      "image/png": "[encoded data removed]",
      "text/plain": [
       "<Figure size 432x288 with 1 Axes>"
      ]
     },
     "metadata": {
      "needs_background": "light"
     }
    }
   ],
   "metadata": {}
  },
  {
   "cell_type": "code",
   "execution_count": 49,
   "source": [
    "sns.countplot(y='number vmail messages', hue='churn', data=df[df['voice mail plan'] == 'yes'])\n"
   ],
   "outputs": [
    {
     "output_type": "execute_result",
     "data": {
      "text/plain": [
       "<AxesSubplot:xlabel='count', ylabel='number vmail messages'>"
      ]
     },
     "metadata": {},
     "execution_count": 49
    },
    {
     "output_type": "display_data",
     "data": {
      "image/png": "[encoded data removed]",
      "text/plain": [
       "<Figure size 432x288 with 1 Axes>"
      ]
     },
     "metadata": {
      "needs_background": "light"
     }
    }
   ],
   "metadata": {}
  },
  {
   "cell_type": "code",
   "execution_count": 50,
   "source": [
    "#The point biserial correlation is used to measure the \n",
    "# relationship between a binary variable, x, and a continuous variable, y. Like other correlation coefficients, \n",
    "# this one varies between -1 and +1 with 0 implying no correlation. Correlations of -1 or +1 imply a determinative relationship.\n",
    "\n",
    "from scipy.stats import pointbiserialr\n",
    "pointbiserialr(df['churn'], df['number vmail messages'])\n",
    "\n",
    "#There is a rather weak inverse correlation."
   ],
   "outputs": [
    {
     "output_type": "execute_result",
     "data": {
      "text/plain": [
       "PointbiserialrResult(correlation=-0.08972796983506393, pvalue=2.1175218402683624e-07)"
      ]
     },
     "metadata": {},
     "execution_count": 50
    }
   ],
   "metadata": {}
  },
  {
   "cell_type": "code",
   "execution_count": 52,
   "source": [
    "plt.figure(figsize=(10,10))\n",
    "sns.countplot(y='state', hue='churn', data=df)"
   ],
   "outputs": [
    {
     "output_type": "execute_result",
     "data": {
      "text/plain": [
       "<AxesSubplot:xlabel='count', ylabel='state'>"
      ]
     },
     "metadata": {},
     "execution_count": 52
    },
    {
     "output_type": "display_data",
     "data": {
      "image/png": "[encoded data removed]",
      "text/plain": [
       "<Figure size 720x720 with 1 Axes>"
      ]
     },
     "metadata": {
      "needs_background": "light"
     }
    }
   ],
   "metadata": {}
  },
  {
   "cell_type": "code",
   "execution_count": 54,
   "source": [
    "df['full charge'] = df['total day charge'] + df['total eve charge'] + df['total night charge']\n",
    "pointbiserialr(df['churn'], df['full charge'])\n",
    "\n",
    "#We can see that there is a correlation, and the relationship between these features is statistically confirmed."
   ],
   "outputs": [
    {
     "output_type": "execute_result",
     "data": {
      "text/plain": [
       "PointbiserialrResult(correlation=0.22696174541537478, pvalue=3.3815074744537016e-40)"
      ]
     },
     "metadata": {},
     "execution_count": 54
    }
   ],
   "metadata": {}
  },
  {
   "cell_type": "code",
   "execution_count": 56,
   "source": [
    "df.groupby('churn')['full charge'].mean().plot(kind='bar') \n",
    "plt.ylabel('Full charge')\n",
    "plt.show();\n",
    "\n",
    "#We can say that disloyal subscribers, on average, spend more money on calls than loyal ones. \n",
    "# In the following chart, when choosing the median in the set of payments, the same thing is observed."
   ],
   "outputs": [
    {
     "output_type": "display_data",
     "data": {
      "image/png": "[encoded data removed]",
      "text/plain": [
       "<Figure size 432x288 with 1 Axes>"
      ]
     },
     "metadata": {
      "needs_background": "light"
     }
    }
   ],
   "metadata": {}
  },
  {
   "cell_type": "code",
   "execution_count": null,
   "source": [],
   "outputs": [],
   "metadata": {}
  },
  {
   "cell_type": "code",
   "execution_count": null,
   "source": [],
   "outputs": [],
   "metadata": {}
  }
 ],
 "metadata": {
  "orig_nbformat": 4,
  "language_info": {
   "name": "python",
   "version": "3.8.2",
   "mimetype": "text/x-python",
   "codemirror_mode": {
    "name": "ipython",
    "version": 3
   },
   "pygments_lexer": "ipython3",
   "nbconvert_exporter": "python",
   "file_extension": ".py"
  },
  "kernelspec": {
   "name": "python3",
   "display_name": "Python 3.8.2 64-bit"
  },
  "interpreter": {
   "hash": "31f2aee4e71d21fbe5cf8b01ff0e069b9275f58929596ceb00d14d90e3e16cd6"
  }
 },
 "nbformat": 4,
 "nbformat_minor": 2
}